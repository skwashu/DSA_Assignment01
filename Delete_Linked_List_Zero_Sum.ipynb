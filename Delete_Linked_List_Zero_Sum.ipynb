{
 "cells": [
  {
   "cell_type": "code",
   "execution_count": null,
   "id": "8cb866e8",
   "metadata": {},
   "outputs": [],
   "source": [
    "class ListNode:\n",
    "    def __init__(self, val=0, next=None):\n",
    "        self.val = val\n",
    "        self.next = next\n",
    "        \n",
    "def delete_zero_sum(head):\n",
    "    dummy = ListNode(0)\n",
    "    dummy.next = head\n",
    "    prefix_sum = {0: dummy}\n",
    "    current = head\n",
    "    prefix_sum_val = 0\n",
    "    while current:\n",
    "        prefix_sum_val += current.val\n",
    "        if prefix_sum_val in prefix_sum:\n",
    "            prev = prefix_sum[prefix_sum_val]\n",
    "            node = prev.next\n",
    "            while node != current:\n",
    "                prefix_sum_val += node.val\n",
    "                del prefix_sum[prefix_sum_val]\n",
    "                node = node.next\n",
    "            prev.next = current.next\n",
    "            current = prev.next\n",
    "        else:\n",
    "            prefix_sum[prefix_sum_val] = current\n",
    "            current = current.next\n",
    "    return dummy.next\n"
   ]
  }
 ],
 "metadata": {
  "kernelspec": {
   "display_name": "Python 3 (ipykernel)",
   "language": "python",
   "name": "python3"
  },
  "language_info": {
   "codemirror_mode": {
    "name": "ipython",
    "version": 3
   },
   "file_extension": ".py",
   "mimetype": "text/x-python",
   "name": "python",
   "nbconvert_exporter": "python",
   "pygments_lexer": "ipython3",
   "version": "3.10.9"
  }
 },
 "nbformat": 4,
 "nbformat_minor": 5
}
